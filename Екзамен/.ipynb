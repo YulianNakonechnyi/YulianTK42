{
 "cells": [
  {
   "cell_type": "markdown",
   "metadata": {},
   "source": [
    "## **Створити клас з методом який повертає випадкове число.**"
   ]
  },
  {
   "cell_type": "code",
   "execution_count": 2,
   "metadata": {},
   "outputs": [
    {
     "name": "stdout",
     "output_type": "stream",
     "text": [
      "Предмет: Об'єктивно орієнтивне програмування\n",
      "Оцінка: 43\n"
     ]
    }
   ],
   "source": [
    "import random\n",
    "\n",
    "class MyExam:\n",
    "    def __init__(self, subject):\n",
    "        self.subject = subject \n",
    "\n",
    "    def get_random_score(self):\n",
    "        return random.randint(1, 100)\n",
    "\n",
    "obj = MyExam(\"Об'єктивно орієнтивне програмування\")\n",
    "\n",
    "random_score = obj.get_random_score()\n",
    "\n",
    "print(f\"Предмет: {obj.subject}\")\n",
    "print(f\"Оцінка: {random_score}\")"
   ]
  },
  {
   "cell_type": "markdown",
   "metadata": {},
   "source": [
    "## **Пояснення:**\n",
    " ---\n",
    "##### **1.Клас MyExam:**\n",
    "\n",
    "   * Конструктор __init__ приймає параметр subject, який ініціалізує атрибут об'єкта.\n",
    "\n",
    "   * Метод get_random_score генерує випадкове число в діапазоні від 1 до 100 за допомогою random.randint(1, 100).\n",
    "\n",
    "##### **2.Створення об'єкта:**\n",
    "\n",
    "   * Об'єкт класу MyExam створюється з переданою назвою предмета \"Об'єктивно орієнтоване програмування\".\n",
    "   \n",
    "##### **3.Виведення:**\n",
    "\n",
    "   * Виводяться назва предмета та випадкова оцінка, що була згенерована методом get_random_score.\n",
    "\n",
    "---\n",
    "##### **В результаті при кожному запуску програма буде видавати рандомну оцінку** "
   ]
  }
 ],
 "metadata": {
  "kernelspec": {
   "display_name": "Python 3",
   "language": "python",
   "name": "python3"
  },
  "language_info": {
   "codemirror_mode": {
    "name": "ipython",
    "version": 3
   },
   "file_extension": ".py",
   "mimetype": "text/x-python",
   "name": "python",
   "nbconvert_exporter": "python",
   "pygments_lexer": "ipython3",
   "version": "3.12.1"
  }
 },
 "nbformat": 4,
 "nbformat_minor": 2
}
