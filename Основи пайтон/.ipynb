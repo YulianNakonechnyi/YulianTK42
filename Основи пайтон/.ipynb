{
 "cells": [
  {
   "cell_type": "markdown",
   "metadata": {},
   "source": [
    "1\n"
   ]
  },
  {
   "cell_type": "code",
   "execution_count": 14,
   "metadata": {},
   "outputs": [
    {
     "name": "stdout",
     "output_type": "stream",
     "text": [
      "Ім'я: Андрій\n",
      "Вік: 25\n",
      "Зріст: 1.75\n",
      "Студент: True\n"
     ]
    }
   ],
   "source": [
    "name = \"Андрій\"          \n",
    "age = 25                 \n",
    "height = 1.75            \n",
    "is_student = True        \n",
    "\n",
    "print(\"Ім'я:\", name)\n",
    "print(\"Вік:\", age)\n",
    "print(\"Зріст:\", height)\n",
    "print(\"Студент:\", is_student)\n"
   ]
  },
  {
   "cell_type": "markdown",
   "metadata": {},
   "source": [
    "2"
   ]
  },
  {
   "cell_type": "code",
   "execution_count": 12,
   "metadata": {},
   "outputs": [
    {
     "name": "stdout",
     "output_type": "stream",
     "text": [
      "привіт None\n",
      "як справи True\n",
      "шо робиш False\n"
     ]
    }
   ],
   "source": [
    "print(\"привіт\" ,None)\n",
    "print(\"як справи\" ,True)\n",
    "print(\"шо робиш\" , False)\n"
   ]
  },
  {
   "cell_type": "markdown",
   "metadata": {},
   "source": [
    "3"
   ]
  },
  {
   "cell_type": "code",
   "execution_count": 15,
   "metadata": {},
   "outputs": [
    {
     "name": "stdout",
     "output_type": "stream",
     "text": [
      "Абсолютне значення -10: 10\n",
      "Довжина рядка 'Python': 6\n",
      "Найбільше значення серед 5, 10, 3: 10\n"
     ]
    }
   ],
   "source": [
    "result1 = abs(-10)\n",
    "print(\"Абсолютне значення -10:\", result1) \n",
    "\n",
    "result2 = len(\"Python\")\n",
    "print(\"Довжина рядка 'Python':\", result2) \n",
    "\n",
    "result3 = max(5, 10, 3)\n",
    "print(\"Найбільше значення серед 5, 10, 3:\", result3) \n"
   ]
  },
  {
   "cell_type": "markdown",
   "metadata": {},
   "source": [
    "4"
   ]
  },
  {
   "cell_type": "code",
   "execution_count": 17,
   "metadata": {},
   "outputs": [
    {
     "name": "stdout",
     "output_type": "stream",
     "text": [
      "Сума чисел від 1 до 5: 15\n",
      "Зворотній відлік: 5\n",
      "Зворотній відлік: 4\n",
      "Зворотній відлік: 3\n",
      "Зворотній відлік: 2\n",
      "Зворотній відлік: 1\n",
      "Старт!\n"
     ]
    }
   ],
   "source": [
    "total = 0\n",
    "for i in range(1, 6):   \n",
    "    total += i\n",
    "print(\"Сума чисел від 1 до 5:\", total) \n",
    "\n",
    "\n",
    "count = 5\n",
    "while count > 0:\n",
    "    print(\"Зворотній відлік:\", count)\n",
    "    count -= 1\n",
    "print(\"Старт!\")  \n"
   ]
  },
  {
   "cell_type": "markdown",
   "metadata": {},
   "source": [
    "5"
   ]
  },
  {
   "cell_type": "code",
   "execution_count": 40,
   "metadata": {},
   "outputs": [
    {
     "name": "stdout",
     "output_type": "stream",
     "text": [
      "Число парне\n",
      "Оцінка: Добре\n"
     ]
    }
   ],
   "source": [
    "number = 4\n",
    "\n",
    "if number % 2 == 0:\n",
    "    print(\"Число парне\")   \n",
    "else:\n",
    "    print(\"Число непарне\")\n",
    "\n",
    "\n",
    "\n",
    "score = 85\n",
    "\n",
    "if score >= 90:\n",
    "    print(\"Оцінка: Відмінно\")\n",
    "elif score >= 75:\n",
    "    print(\"Оцінка: Добре\")   \n",
    "elif score >= 60:\n",
    "    print(\"Оцінка: Задовільно\")\n",
    "else:\n",
    "    print(\"Оцінка: Незадовільно\")\n",
    "\n",
    "\n",
    "\n",
    "\n"
   ]
  },
  {
   "cell_type": "markdown",
   "metadata": {},
   "source": [
    "6"
   ]
  },
  {
   "cell_type": "code",
   "execution_count": 41,
   "metadata": {},
   "outputs": [
    {
     "ename": "IndexError",
     "evalue": "list index out of range",
     "output_type": "error",
     "traceback": [
      "\u001b[1;31m---------------------------------------------------------------------------\u001b[0m",
      "\u001b[1;31mIndexError\u001b[0m                                Traceback (most recent call last)",
      "Cell \u001b[1;32mIn[41], line 2\u001b[0m\n\u001b[0;32m      1\u001b[0m numbers \u001b[38;5;241m=\u001b[39m [\u001b[38;5;241m1\u001b[39m, \u001b[38;5;241m2\u001b[39m, \u001b[38;5;241m3\u001b[39m, \u001b[38;5;241m4\u001b[39m, \u001b[38;5;241m5\u001b[39m]\n\u001b[1;32m----> 2\u001b[0m \u001b[38;5;28mprint\u001b[39m(\u001b[43mnumbers\u001b[49m\u001b[43m[\u001b[49m\u001b[38;5;241;43m5\u001b[39;49m\u001b[43m]\u001b[49m)  \u001b[38;5;66;03m# Помилка: індекс виходить за межі списку\u001b[39;00m\n",
      "\u001b[1;31mIndexError\u001b[0m: list index out of range"
     ]
    }
   ],
   "source": [
    "numbers = [1, 2, 3, 4, 5]\n",
    "print(numbers[5])  # Помилка: індекс виходить за межі списку"
   ]
  },
  {
   "cell_type": "markdown",
   "metadata": {},
   "source": [
    "7"
   ]
  },
  {
   "cell_type": "code",
   "execution_count": 44,
   "metadata": {},
   "outputs": [
    {
     "name": "stdout",
     "output_type": "stream",
     "text": [
      "Читаємо рядок: Рядок 1\n",
      "Читаємо рядок: Рядок 2\n",
      "Читаємо рядок: Рядок 3\n"
     ]
    }
   ],
   "source": [
    "with open(\"example.txt\", \"w\") as file:\n",
    "    file.write(\"Рядок 1\\n\")\n",
    "    file.write(\"Рядок 2\\n\")\n",
    "    file.write(\"Рядок 3\\n\")\n",
    "\n",
    "\n",
    "with open(\"example.txt\", \"r\") as file:\n",
    "    for line in file:\n",
    "        print(\"Читаємо рядок:\", line.strip())"
   ]
  },
  {
   "cell_type": "markdown",
   "metadata": {},
   "source": [
    "8"
   ]
  },
  {
   "cell_type": "code",
   "execution_count": 47,
   "metadata": {},
   "outputs": [
    {
     "name": "stdout",
     "output_type": "stream",
     "text": [
      "Квадрати чисел: [1, 4, 9, 16, 25]\n",
      "Парні числа: [2, 4]\n"
     ]
    }
   ],
   "source": [
    "numbers = [1, 2, 3, 4, 5]\n",
    "\n",
    "squared_numbers = list(map(lambda x: x ** 2, numbers))\n",
    "\n",
    "print(\"Квадрати чисел:\", squared_numbers)  \n",
    "\n",
    "even_numbers = list(filter(lambda x: x % 2 == 0, numbers))\n",
    "\n",
    "print(\"Парні числа:\", even_numbers)  \n"
   ]
  }
 ],
 "metadata": {
  "kernelspec": {
   "display_name": "Python 3",
   "language": "python",
   "name": "python3"
  },
  "language_info": {
   "codemirror_mode": {
    "name": "ipython",
    "version": 3
   },
   "file_extension": ".py",
   "mimetype": "text/x-python",
   "name": "python",
   "nbconvert_exporter": "python",
   "pygments_lexer": "ipython3",
   "version": "3.13.0"
  }
 },
 "nbformat": 4,
 "nbformat_minor": 2
}
