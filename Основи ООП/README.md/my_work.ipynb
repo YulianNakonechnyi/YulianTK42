{
 "cells": [
  {
   "cell_type": "markdown",
   "metadata": {},
   "source": [
    "Приклади розглянуті на лекції "
   ]
  },
  {
   "cell_type": "markdown",
   "metadata": {},
   "source": [
    "Перший як працює атрибут:"
   ]
  },
  {
   "cell_type": "code",
   "execution_count": 18,
   "metadata": {},
   "outputs": [
    {
     "name": "stdout",
     "output_type": "stream",
     "text": [
      "Buddy\n",
      "3\n",
      "Buddy says woof!\n"
     ]
    }
   ],
   "source": [
    "class Dog:\n",
    "    def __init__(self, name, age):\n",
    "        self.name = name  # атрибут name\n",
    "        self.age = age    # атрибут age\n",
    "\n",
    "    def bark(self):\n",
    "        return f\"{self.name} says woof!\"\n",
    "\n",
    "# Створення об'єкта класу Dog\n",
    "my_dog = Dog(\"Buddy\", 3)\n",
    "\n",
    "# Використання атрибутів\n",
    "print(my_dog.name)  # Виведе: Buddy\n",
    "print(my_dog.age)   # Виведе: 3\n",
    "\n",
    "# Виклик методу\n",
    "print(my_dog.bark())  # Виведе: Buddy says woof!\n",
    "\n"
   ]
  },
  {
   "cell_type": "markdown",
   "metadata": {},
   "source": [
    "Друге як працює проперті:"
   ]
  },
  {
   "cell_type": "code",
   "execution_count": 19,
   "metadata": {},
   "outputs": [
    {
     "name": "stdout",
     "output_type": "stream",
     "text": [
      "5\n",
      "10\n",
      "314.0\n",
      "Радіус не може бути від'ємним.\n"
     ]
    }
   ],
   "source": [
    "class Circle:\n",
    "    def __init__(self, radius):\n",
    "        self._radius = radius  # Приватний атрибут\n",
    "\n",
    "    @property\n",
    "    def radius(self):\n",
    "        \"\"\"Отримати радіус кола.\"\"\"\n",
    "        return self._radius\n",
    "\n",
    "    @radius.setter\n",
    "    def radius(self, value):\n",
    "        \"\"\"Встановити радіус кола.\"\"\"\n",
    "        if value < 0:\n",
    "            raise ValueError(\"Радіус не може бути від'ємним.\")\n",
    "        self._radius = value\n",
    "\n",
    "    @property\n",
    "    def area(self):\n",
    "        \"\"\"Обчислити площу кола.\"\"\"\n",
    "        return 3.14 * (self._radius ** 2)\n",
    "\n",
    "# Використання класу Circle\n",
    "circle = Circle(5)\n",
    "\n",
    "# Отримання значення радіусу\n",
    "print(circle.radius)  # Виведе: 5\n",
    "\n",
    "# Встановлення нового радіусу\n",
    "circle.radius = 10\n",
    "print(circle.radius)  # Виведе: 10\n",
    "\n",
    "# Отримання площі\n",
    "print(circle.area)  # Виведе: 314.0\n",
    "\n",
    "# Спроба встановити від'ємний радіус\n",
    "try:\n",
    "    circle.radius = -3\n",
    "except ValueError as e:\n",
    "    print(e)  # Виведе: Радіус не може бути від'ємним."
   ]
  }
 ],
 "metadata": {
  "kernelspec": {
   "display_name": "Python 3",
   "language": "python",
   "name": "python3"
  },
  "language_info": {
   "codemirror_mode": {
    "name": "ipython",
    "version": 3
   },
   "file_extension": ".py",
   "mimetype": "text/x-python",
   "name": "python",
   "nbconvert_exporter": "python",
   "pygments_lexer": "ipython3",
   "version": "3.13.0"
  }
 },
 "nbformat": 4,
 "nbformat_minor": 2
}
